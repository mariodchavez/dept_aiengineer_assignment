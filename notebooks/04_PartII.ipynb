{
 "cells": [
  {
   "cell_type": "markdown",
   "id": "63052c19",
   "metadata": {},
   "source": [
    "# Part II - Generate an email using Large Language Models, in the style of our client\n",
    "\n",
    "* Utilise a Large Language Model to generate an email for customers that are at risk of churn \n",
    "\n",
    "* It is ok to make use of e.g. ChatGPT or Gemini interfaces for this case, if you do it with API’s this is also fine.\n"
   ]
  },
  {
   "cell_type": "markdown",
   "id": "25db57b1",
   "metadata": {},
   "source": [
    "## Questions to answer:\n",
    "1. How do you ensure the generated content adheres to the brand guidelines of the client?\n",
    "\n",
    "2. How could this concept scale across different customer journeys, phases or segments? "
   ]
  },
  {
   "cell_type": "markdown",
   "id": "641ab9ca",
   "metadata": {},
   "source": [
    "# Design"
   ]
  },
  {
   "cell_type": "markdown",
   "id": "caa0c46f",
   "metadata": {},
   "source": [
    "The solution is based on creating a GPT via ChatGPT Interface. \n",
    "\n",
    "This GPT that is feeded with Vodafone's' guidelines, customer_data, risk_profile data and current_offers data.\n",
    "\n",
    "In a nutshell, after the GPT analyzes the three data sources given by the user, the GTP generates emails per customer depending on the customer's characteristics. The GPT uses GPT 4.5 model. I chose this model as it prioritizes text writing, the model's temperature is mid-high, which helps to be creative when writing but without getting too inconsistent.\n"
   ]
  },
  {
   "cell_type": "markdown",
   "id": "23135e92",
   "metadata": {},
   "source": [
    "## Prompt Used\n",
    "\n",
    "**GPT Prompt for Vodafone Customer Retention Email Generation:**\n",
    "\n",
    "Role: You are an AI Assistant specialized in customer retention at Vodafone. Your task is to generate personalized, brand-aligned emails aimed at retaining customers identified as at-risk for churn.\n",
    "\n",
    "\n",
    "Your Objective: Craft personalized retention emails tailored to customers identified by our Machine Learning model as at-risk for churn. Utilize provided customer details, churn-risk categories, and predefined discounts/services/offers.\n",
    "\n",
    "\n",
    "Generation Instructions (Step-by-Step):\n",
    "\n",
    "Input: The user should provide you with the following: \n",
    "\n",
    "- Customer Data. Should contain the customer id, client's name and Risk Profile (like A, B, C, D, E, or F)\n",
    "\n",
    "- Risk profiles data. Should contain the Risk profile, and the Risk Profile Description. \n",
    "\n",
    "- Current Offers Data. Should contain offerid, offer description, Risk Profile and Expiration Date.\n",
    "\n",
    "\n",
    "Note: The churn-risk factors (Risk Profile Descriptions) seen in the risk profiles data correspond to the identified important features in relation to churn behavior of an applied Machine Learning model's feature importance and SHAP analysis.\n",
    "\n",
    "\n",
    "The three data sets mentioned above can be related to each other using the Risk Profile as matching criteria. The idea is that a customer with a specific customerid and with a specific customer name, might have a risk profile associated with. If so, the risk profile description can be found in the risk profile data, under the risk profile description field. Additionally, in order to know what type of churn risk mitigation to take, the information can be found in the current offers data, where risk profiles are associated with specific offer descriptions and their respective expiration date. \n",
    "\n",
    "\n",
    "With that information together with Vodafone's shared Voice Guidelines, you should be able to provide tailored emails to every customer that's in risk of churning (according to the customer data). The tailored email should include an offer or multiple offers that intend to improve the customer-in-risk's satisfaction, with the goal of lowering the likelihood of churning.\n",
    "\n",
    "\n",
    "Process:\n",
    "\n",
    "- You will ask the user for the necessary data (data mentioned above).\n",
    "\n",
    "- From the customer data file, you should map on a customer basis a corresponding customer with its corresponding Risk profile/s data and its corresponding current offer/s data, by using the risk profile value as matching condition.\n",
    "\n",
    "\n",
    "Important:\n",
    "\n",
    "- Always follow the provided Vodafone tone-of-voice guidelines (attached PDF). \n",
    "- Do NOT deviate from approved discounts/services. Ensure personalization starting with the customer name and customer-specific offers only. \n",
    "- Note: Always offer realistic and currently available discounts/services (Expiration Date > Current Date) based strictly on customer type(s)."
   ]
  },
  {
   "cell_type": "markdown",
   "id": "dd6d6a6e",
   "metadata": {},
   "source": [
    "**Additional Settings**\n",
    "It was necessary to turn on Code Interpreter and Data Analysis Capabilities for the GPT to understand how to use the data and relate it. "
   ]
  },
  {
   "cell_type": "markdown",
   "id": "03e1b00d",
   "metadata": {},
   "source": [
    "# Dummy Data"
   ]
  },
  {
   "cell_type": "markdown",
   "id": "205a4fb0",
   "metadata": {},
   "source": [
    "The below data is an example of the type of data that the GPT would need to receive. The idea is that the below data can be constructed based on the results of Modeling and Evaluation. "
   ]
  },
  {
   "cell_type": "code",
   "execution_count": null,
   "id": "c7e7b694",
   "metadata": {},
   "outputs": [
    {
     "name": "stdout",
     "output_type": "stream",
     "text": [
      "Fictitious customer data saved to ../data/external/customer_data.csv\n"
     ]
    }
   ],
   "source": [
    "import pandas as pd\n",
    "\n",
    "# Create a fictitious dataset\n",
    "customer_data = [\n",
    "    {'customer_id': 'CUST001', 'client_name': 'Alice Johnson', 'risk_profile': 'A'},\n",
    "    {'customer_id': 'CUST002', 'client_name': 'Bob Smith', 'risk_profile': 'B,C'},\n",
    "    {'customer_id': 'CUST003', 'client_name': 'Carol White', 'risk_profile': 'A,E'},\n",
    "    {'customer_id': 'CUST004', 'client_name': 'David Lee', 'risk_profile': 'D'},\n",
    "    {'customer_id': 'CUST005', 'client_name': 'Eva Brown', 'risk_profile': 'C'},\n",
    "    {'customer_id': 'CUST006', 'client_name': 'Frank Martin', 'risk_profile': 'B,D'},\n",
    "    {'customer_id': 'CUST007', 'client_name': 'Grace Kim', 'risk_profile': 'E'},\n",
    "    {'customer_id': 'CUST008', 'client_name': 'Hector Garcia', 'risk_profile': 'A,B,C'},\n",
    "    {'customer_id': 'CUST009', 'client_name': 'Ivy Chen', 'risk_profile': 'D,E'},\n",
    "    {'customer_id': 'CUST010', 'client_name': 'Jack Wilson', 'risk_profile': 'A,D'}\n",
    "]\n",
    "\n",
    "df = pd.DataFrame(customer_data)\n",
    "\n",
    "# Save to CSV for download\n",
    "file_path = '../data/external/customer_data.csv'\n",
    "df.to_csv(file_path, index=False)\n",
    "print(f\"Fictitious customer data saved to {file_path}\")"
   ]
  },
  {
   "cell_type": "markdown",
   "id": "2c6bba6a",
   "metadata": {},
   "source": [
    "Together with the sales and marketing department, offers/discounts can be defined, which are tailored to customers' risk profiles. This could look in the following way:"
   ]
  },
  {
   "cell_type": "code",
   "execution_count": 9,
   "id": "7f2c50b3",
   "metadata": {},
   "outputs": [
    {
     "name": "stdout",
     "output_type": "stream",
     "text": [
      "Offers dataset saved to ../data/external/current_offers.csv\n"
     ]
    }
   ],
   "source": [
    "current_offers = [\n",
    "    {'offer_id': 'OFF001', 'offer_description': '15% discount on monthly bill for first 6 months', 'risk_profile': 'A', 'expiration_date': '2025-08-15'},\n",
    "    {'offer_id': 'OFF002', 'offer_description': 'Waived activation fee & 20% off for 12-month contract', 'risk_profile': 'B', 'expiration_date': '2025-08-20'},\n",
    "    {'offer_id': 'OFF003', 'offer_description': '€10 off monthly charges for next 3 months', 'risk_profile': 'C', 'expiration_date': '2025-08-18'},\n",
    "    {'offer_id': 'OFF004', 'offer_description': 'Free Wi-Fi Extender installation for fiber customers', 'risk_profile': 'D', 'expiration_date': '2025-09-01'},\n",
    "    {'offer_id': 'OFF005', 'offer_description': 'Complimentary online security package for 6 months', 'risk_profile': 'E', 'expiration_date': '2025-08-25'},\n",
    "    {'offer_id': 'OFF006', 'offer_description': '15% discount + Free tech support for 3 months', 'risk_profile': 'F', 'expiration_date': '2025-08-30'},\n",
    "    {'offer_id': 'OFF007', 'offer_description': 'Free Vodafone TV subscription for 3 months', 'risk_profile': 'A', 'expiration_date': '2025-09-05'},\n",
    "    {'offer_id': 'OFF008', 'offer_description': 'Bundle mobile & internet at €20 off for 4 months', 'risk_profile': 'C', 'expiration_date': '2025-08-28'},\n",
    "    {'offer_id': 'OFF009', 'offer_description': 'Upgrade to 2-year plan with €5 off monthly bill', 'risk_profile': 'B', 'expiration_date': '2025-08-22'},\n",
    "    {'offer_id': 'OFF010', 'offer_description': 'Free online security + €5 off monthly bill for 3 months', 'risk_profile': 'F', 'expiration_date': '2025-09-10'},\n",
    "]\n",
    "\n",
    "df_current_offers = pd.DataFrame(current_offers)\n",
    "\n",
    "# Save to CSV for download\n",
    "file_path = '../data/external/current_offers.csv'\n",
    "df.to_csv(file_path, index=False)\n",
    "print(f\"Offers dataset saved to {file_path}\")\n"
   ]
  },
  {
   "cell_type": "code",
   "execution_count": 10,
   "id": "fbd40c42",
   "metadata": {},
   "outputs": [],
   "source": [
    "# Creating the customer type descriptions dataset\n",
    "risk_profiles = [\n",
    "    {'risk_profile': 'A', 'risk_profile_description': 'New clients with tenure from 0 to 6 months'},\n",
    "    {'risk_profile': 'B', 'risk_profile_description': 'Clients on a month-to-month contract rather than a 1 or 2-year contract'},\n",
    "    {'risk_profile': 'C', 'risk_profile_description': 'Clients with higher monthly charges'},\n",
    "    {'risk_profile': 'D', 'risk_profile_description': 'Clients using fiber optic internet service instead of DSL'},\n",
    "    {'risk_profile': 'E', 'risk_profile_description': 'Clients lacking add-on services like tech support or online security'},\n",
    "    {'risk_profile': 'F', 'risk_profile_description': 'Clients that exhibit characteristics from one or more of the above types'},\n",
    "]\n",
    "\n",
    "df_types = pd.DataFrame(risk_profiles)\n",
    "\n",
    "# Save to CSV for download\n",
    "file_path = '../data/external/risk_profiles.csv'\n",
    "df_types.to_csv(file_path, index=False)"
   ]
  },
  {
   "cell_type": "markdown",
   "id": "f775f1bb",
   "metadata": {},
   "source": [
    "# GPT's Output"
   ]
  },
  {
   "cell_type": "code",
   "execution_count": 14,
   "id": "e94cc8e3",
   "metadata": {},
   "outputs": [
    {
     "data": {
      "application/vnd.microsoft.datawrangler.viewer.v0+json": {
       "columns": [
        {
         "name": "index",
         "rawType": "int64",
         "type": "integer"
        },
        {
         "name": "client_name",
         "rawType": "object",
         "type": "string"
        },
        {
         "name": "personalized_email",
         "rawType": "object",
         "type": "string"
        }
       ],
       "ref": "ec080baa-c8ec-466b-8f43-9103dfc76abe",
       "rows": [
        [
         "0",
         "Alice Johnson",
         "Subject: Exclusive Offers Just for You, Alice Johnson!\n\nHi Alice Johnson,\n\nWe've noticed your recent engagement with us and we'd love to show our appreciation! Here are some exclusive benefits tailored just for you:\n\n- 15% discount on monthly bill for first 6 months\n- Free Vodafone TV subscription for 3 months\n\nClick here to claim your personalized offers today!\n\nThank you for choosing Vodafone. We're excited to keep serving you!\n\nBest regards,\nVodafone Customer Care Team\n"
        ],
        [
         "1",
         "Bob Smith",
         "Subject: Exclusive Offers Just for You, Bob Smith!\n\nHi Bob Smith,\n\nWe've noticed your recent engagement with us and we'd love to show our appreciation! Here are some exclusive benefits tailored just for you:\n\n- Upgrade to 2‑year plan with €5 off monthly bill\n- Waived activation fee & 20% off for 12‑month contract\n- Bundle mobile & internet at €20 off for 4 months\n- €10 off monthly charges for next 3 months\n\nClick here to claim your personalized offers today!\n\nThank you for choosing Vodafone. We're excited to keep serving you!\n\nBest regards,\nVodafone Customer Care Team\n"
        ],
        [
         "2",
         "Carol White",
         "Subject: Exclusive Offers Just for You, Carol White!\n\nHi Carol White,\n\nWe've noticed your recent engagement with us and we'd love to show our appreciation! Here are some exclusive benefits tailored just for you:\n\n- Complimentary online security package for 6 months\n- 15% discount on monthly bill for first 6 months\n- Free Vodafone TV subscription for 3 months\n\nClick here to claim your personalized offers today!\n\nThank you for choosing Vodafone. We're excited to keep serving you!\n\nBest regards,\nVodafone Customer Care Team\n"
        ],
        [
         "3",
         "David Lee",
         "Subject: Exclusive Offers Just for You, David Lee!\n\nHi David Lee,\n\nWe've noticed your recent engagement with us and we'd love to show our appreciation! Here are some exclusive benefits tailored just for you:\n\n- Free Wi‑Fi Extender installation for fiber customers\n\nClick here to claim your personalized offers today!\n\nThank you for choosing Vodafone. We're excited to keep serving you!\n\nBest regards,\nVodafone Customer Care Team\n"
        ],
        [
         "4",
         "Eva Brown",
         "Subject: Exclusive Offers Just for You, Eva Brown!\n\nHi Eva Brown,\n\nWe've noticed your recent engagement with us and we'd love to show our appreciation! Here are some exclusive benefits tailored just for you:\n\n- Bundle mobile & internet at €20 off for 4 months\n- €10 off monthly charges for next 3 months\n\nClick here to claim your personalized offers today!\n\nThank you for choosing Vodafone. We're excited to keep serving you!\n\nBest regards,\nVodafone Customer Care Team\n"
        ],
        [
         "5",
         "Frank Martin",
         "Subject: Exclusive Offers Just for You, Frank Martin!\n\nHi Frank Martin,\n\nWe've noticed your recent engagement with us and we'd love to show our appreciation! Here are some exclusive benefits tailored just for you:\n\n- Upgrade to 2‑year plan with €5 off monthly bill\n- Waived activation fee & 20% off for 12‑month contract\n- Free Wi‑Fi Extender installation for fiber customers\n\nClick here to claim your personalized offers today!\n\nThank you for choosing Vodafone. We're excited to keep serving you!\n\nBest regards,\nVodafone Customer Care Team\n"
        ],
        [
         "6",
         "Grace Kim",
         "Subject: Exclusive Offers Just for You, Grace Kim!\n\nHi Grace Kim,\n\nWe've noticed your recent engagement with us and we'd love to show our appreciation! Here are some exclusive benefits tailored just for you:\n\n- Complimentary online security package for 6 months\n\nClick here to claim your personalized offers today!\n\nThank you for choosing Vodafone. We're excited to keep serving you!\n\nBest regards,\nVodafone Customer Care Team\n"
        ],
        [
         "7",
         "Hector Garcia",
         "Subject: Exclusive Offers Just for You, Hector Garcia!\n\nHi Hector Garcia,\n\nWe've noticed your recent engagement with us and we'd love to show our appreciation! Here are some exclusive benefits tailored just for you:\n\n- Upgrade to 2‑year plan with €5 off monthly bill\n- €10 off monthly charges for next 3 months\n- Free Vodafone TV subscription for 3 months\n- Waived activation fee & 20% off for 12‑month contract\n- Bundle mobile & internet at €20 off for 4 months\n- 15% discount on monthly bill for first 6 months\n\nClick here to claim your personalized offers today!\n\nThank you for choosing Vodafone. We're excited to keep serving you!\n\nBest regards,\nVodafone Customer Care Team\n"
        ],
        [
         "8",
         "Ivy Chen",
         "Subject: Exclusive Offers Just for You, Ivy Chen!\n\nHi Ivy Chen,\n\nWe've noticed your recent engagement with us and we'd love to show our appreciation! Here are some exclusive benefits tailored just for you:\n\n- Free Wi‑Fi Extender installation for fiber customers\n- Complimentary online security package for 6 months\n\nClick here to claim your personalized offers today!\n\nThank you for choosing Vodafone. We're excited to keep serving you!\n\nBest regards,\nVodafone Customer Care Team\n"
        ],
        [
         "9",
         "Jack Wilson",
         "Subject: Exclusive Offers Just for You, Jack Wilson!\n\nHi Jack Wilson,\n\nWe've noticed your recent engagement with us and we'd love to show our appreciation! Here are some exclusive benefits tailored just for you:\n\n- Free Wi‑Fi Extender installation for fiber customers\n- 15% discount on monthly bill for first 6 months\n- Free Vodafone TV subscription for 3 months\n\nClick here to claim your personalized offers today!\n\nThank you for choosing Vodafone. We're excited to keep serving you!\n\nBest regards,\nVodafone Customer Care Team\n"
        ]
       ],
       "shape": {
        "columns": 2,
        "rows": 10
       }
      },
      "text/html": [
       "<div>\n",
       "<style scoped>\n",
       "    .dataframe tbody tr th:only-of-type {\n",
       "        vertical-align: middle;\n",
       "    }\n",
       "\n",
       "    .dataframe tbody tr th {\n",
       "        vertical-align: top;\n",
       "    }\n",
       "\n",
       "    .dataframe thead th {\n",
       "        text-align: right;\n",
       "    }\n",
       "</style>\n",
       "<table border=\"1\" class=\"dataframe\">\n",
       "  <thead>\n",
       "    <tr style=\"text-align: right;\">\n",
       "      <th></th>\n",
       "      <th>client_name</th>\n",
       "      <th>personalized_email</th>\n",
       "    </tr>\n",
       "  </thead>\n",
       "  <tbody>\n",
       "    <tr>\n",
       "      <th>0</th>\n",
       "      <td>Alice Johnson</td>\n",
       "      <td>Subject: Exclusive Offers Just for You, Alice ...</td>\n",
       "    </tr>\n",
       "    <tr>\n",
       "      <th>1</th>\n",
       "      <td>Bob Smith</td>\n",
       "      <td>Subject: Exclusive Offers Just for You, Bob Sm...</td>\n",
       "    </tr>\n",
       "    <tr>\n",
       "      <th>2</th>\n",
       "      <td>Carol White</td>\n",
       "      <td>Subject: Exclusive Offers Just for You, Carol ...</td>\n",
       "    </tr>\n",
       "    <tr>\n",
       "      <th>3</th>\n",
       "      <td>David Lee</td>\n",
       "      <td>Subject: Exclusive Offers Just for You, David ...</td>\n",
       "    </tr>\n",
       "    <tr>\n",
       "      <th>4</th>\n",
       "      <td>Eva Brown</td>\n",
       "      <td>Subject: Exclusive Offers Just for You, Eva Br...</td>\n",
       "    </tr>\n",
       "    <tr>\n",
       "      <th>5</th>\n",
       "      <td>Frank Martin</td>\n",
       "      <td>Subject: Exclusive Offers Just for You, Frank ...</td>\n",
       "    </tr>\n",
       "    <tr>\n",
       "      <th>6</th>\n",
       "      <td>Grace Kim</td>\n",
       "      <td>Subject: Exclusive Offers Just for You, Grace ...</td>\n",
       "    </tr>\n",
       "    <tr>\n",
       "      <th>7</th>\n",
       "      <td>Hector Garcia</td>\n",
       "      <td>Subject: Exclusive Offers Just for You, Hector...</td>\n",
       "    </tr>\n",
       "    <tr>\n",
       "      <th>8</th>\n",
       "      <td>Ivy Chen</td>\n",
       "      <td>Subject: Exclusive Offers Just for You, Ivy Ch...</td>\n",
       "    </tr>\n",
       "    <tr>\n",
       "      <th>9</th>\n",
       "      <td>Jack Wilson</td>\n",
       "      <td>Subject: Exclusive Offers Just for You, Jack W...</td>\n",
       "    </tr>\n",
       "  </tbody>\n",
       "</table>\n",
       "</div>"
      ],
      "text/plain": [
       "     client_name                                 personalized_email\n",
       "0  Alice Johnson  Subject: Exclusive Offers Just for You, Alice ...\n",
       "1      Bob Smith  Subject: Exclusive Offers Just for You, Bob Sm...\n",
       "2    Carol White  Subject: Exclusive Offers Just for You, Carol ...\n",
       "3      David Lee  Subject: Exclusive Offers Just for You, David ...\n",
       "4      Eva Brown  Subject: Exclusive Offers Just for You, Eva Br...\n",
       "5   Frank Martin  Subject: Exclusive Offers Just for You, Frank ...\n",
       "6      Grace Kim  Subject: Exclusive Offers Just for You, Grace ...\n",
       "7  Hector Garcia  Subject: Exclusive Offers Just for You, Hector...\n",
       "8       Ivy Chen  Subject: Exclusive Offers Just for You, Ivy Ch...\n",
       "9    Jack Wilson  Subject: Exclusive Offers Just for You, Jack W..."
      ]
     },
     "execution_count": 14,
     "metadata": {},
     "output_type": "execute_result"
    }
   ],
   "source": [
    "# Load the dataset\n",
    "df_gpt = pd.read_csv('../data/external/Personalized_Customer_Retention_Emails.csv')\n",
    "df_gpt.head(10)"
   ]
  },
  {
   "cell_type": "code",
   "execution_count": 16,
   "id": "23360130",
   "metadata": {},
   "outputs": [
    {
     "name": "stdout",
     "output_type": "stream",
     "text": [
      "Email for Alice Johnson:\n",
      "Subject: Exclusive Offers Just for You, Alice Johnson!\n",
      "\n",
      "Hi Alice Johnson,\n",
      "\n",
      "We've noticed your recent engagement with us and we'd love to show our appreciation! Here are some exclusive benefits tailored just for you:\n",
      "\n",
      "- 15% discount on monthly bill for first 6 months\n",
      "- Free Vodafone TV subscription for 3 months\n",
      "\n",
      "Click here to claim your personalized offers today!\n",
      "\n",
      "Thank you for choosing Vodafone. We're excited to keep serving you!\n",
      "\n",
      "Best regards,\n",
      "Vodafone Customer Care Team\n",
      "\n",
      "\n",
      "Email for Bob Smith:\n",
      "Subject: Exclusive Offers Just for You, Bob Smith!\n",
      "\n",
      "Hi Bob Smith,\n",
      "\n",
      "We've noticed your recent engagement with us and we'd love to show our appreciation! Here are some exclusive benefits tailored just for you:\n",
      "\n",
      "- Upgrade to 2‑year plan with €5 off monthly bill\n",
      "- Waived activation fee & 20% off for 12‑month contract\n",
      "- Bundle mobile & internet at €20 off for 4 months\n",
      "- €10 off monthly charges for next 3 months\n",
      "\n",
      "Click here to claim your personalized offers today!\n",
      "\n",
      "Thank you for choosing Vodafone. We're excited to keep serving you!\n",
      "\n",
      "Best regards,\n",
      "Vodafone Customer Care Team\n",
      "\n",
      "\n",
      "Email for Carol White:\n",
      "Subject: Exclusive Offers Just for You, Carol White!\n",
      "\n",
      "Hi Carol White,\n",
      "\n",
      "We've noticed your recent engagement with us and we'd love to show our appreciation! Here are some exclusive benefits tailored just for you:\n",
      "\n",
      "- Complimentary online security package for 6 months\n",
      "- 15% discount on monthly bill for first 6 months\n",
      "- Free Vodafone TV subscription for 3 months\n",
      "\n",
      "Click here to claim your personalized offers today!\n",
      "\n",
      "Thank you for choosing Vodafone. We're excited to keep serving you!\n",
      "\n",
      "Best regards,\n",
      "Vodafone Customer Care Team\n",
      "\n",
      "\n",
      "Email for David Lee:\n",
      "Subject: Exclusive Offers Just for You, David Lee!\n",
      "\n",
      "Hi David Lee,\n",
      "\n",
      "We've noticed your recent engagement with us and we'd love to show our appreciation! Here are some exclusive benefits tailored just for you:\n",
      "\n",
      "- Free Wi‑Fi Extender installation for fiber customers\n",
      "\n",
      "Click here to claim your personalized offers today!\n",
      "\n",
      "Thank you for choosing Vodafone. We're excited to keep serving you!\n",
      "\n",
      "Best regards,\n",
      "Vodafone Customer Care Team\n",
      "\n",
      "\n",
      "Email for Eva Brown:\n",
      "Subject: Exclusive Offers Just for You, Eva Brown!\n",
      "\n",
      "Hi Eva Brown,\n",
      "\n",
      "We've noticed your recent engagement with us and we'd love to show our appreciation! Here are some exclusive benefits tailored just for you:\n",
      "\n",
      "- Bundle mobile & internet at €20 off for 4 months\n",
      "- €10 off monthly charges for next 3 months\n",
      "\n",
      "Click here to claim your personalized offers today!\n",
      "\n",
      "Thank you for choosing Vodafone. We're excited to keep serving you!\n",
      "\n",
      "Best regards,\n",
      "Vodafone Customer Care Team\n",
      "\n",
      "\n",
      "Email for Frank Martin:\n",
      "Subject: Exclusive Offers Just for You, Frank Martin!\n",
      "\n",
      "Hi Frank Martin,\n",
      "\n",
      "We've noticed your recent engagement with us and we'd love to show our appreciation! Here are some exclusive benefits tailored just for you:\n",
      "\n",
      "- Upgrade to 2‑year plan with €5 off monthly bill\n",
      "- Waived activation fee & 20% off for 12‑month contract\n",
      "- Free Wi‑Fi Extender installation for fiber customers\n",
      "\n",
      "Click here to claim your personalized offers today!\n",
      "\n",
      "Thank you for choosing Vodafone. We're excited to keep serving you!\n",
      "\n",
      "Best regards,\n",
      "Vodafone Customer Care Team\n",
      "\n",
      "\n",
      "Email for Grace Kim:\n",
      "Subject: Exclusive Offers Just for You, Grace Kim!\n",
      "\n",
      "Hi Grace Kim,\n",
      "\n",
      "We've noticed your recent engagement with us and we'd love to show our appreciation! Here are some exclusive benefits tailored just for you:\n",
      "\n",
      "- Complimentary online security package for 6 months\n",
      "\n",
      "Click here to claim your personalized offers today!\n",
      "\n",
      "Thank you for choosing Vodafone. We're excited to keep serving you!\n",
      "\n",
      "Best regards,\n",
      "Vodafone Customer Care Team\n",
      "\n",
      "\n",
      "Email for Hector Garcia:\n",
      "Subject: Exclusive Offers Just for You, Hector Garcia!\n",
      "\n",
      "Hi Hector Garcia,\n",
      "\n",
      "We've noticed your recent engagement with us and we'd love to show our appreciation! Here are some exclusive benefits tailored just for you:\n",
      "\n",
      "- Upgrade to 2‑year plan with €5 off monthly bill\n",
      "- €10 off monthly charges for next 3 months\n",
      "- Free Vodafone TV subscription for 3 months\n",
      "- Waived activation fee & 20% off for 12‑month contract\n",
      "- Bundle mobile & internet at €20 off for 4 months\n",
      "- 15% discount on monthly bill for first 6 months\n",
      "\n",
      "Click here to claim your personalized offers today!\n",
      "\n",
      "Thank you for choosing Vodafone. We're excited to keep serving you!\n",
      "\n",
      "Best regards,\n",
      "Vodafone Customer Care Team\n",
      "\n",
      "\n",
      "Email for Ivy Chen:\n",
      "Subject: Exclusive Offers Just for You, Ivy Chen!\n",
      "\n",
      "Hi Ivy Chen,\n",
      "\n",
      "We've noticed your recent engagement with us and we'd love to show our appreciation! Here are some exclusive benefits tailored just for you:\n",
      "\n",
      "- Free Wi‑Fi Extender installation for fiber customers\n",
      "- Complimentary online security package for 6 months\n",
      "\n",
      "Click here to claim your personalized offers today!\n",
      "\n",
      "Thank you for choosing Vodafone. We're excited to keep serving you!\n",
      "\n",
      "Best regards,\n",
      "Vodafone Customer Care Team\n",
      "\n",
      "\n",
      "Email for Jack Wilson:\n",
      "Subject: Exclusive Offers Just for You, Jack Wilson!\n",
      "\n",
      "Hi Jack Wilson,\n",
      "\n",
      "We've noticed your recent engagement with us and we'd love to show our appreciation! Here are some exclusive benefits tailored just for you:\n",
      "\n",
      "- Free Wi‑Fi Extender installation for fiber customers\n",
      "- 15% discount on monthly bill for first 6 months\n",
      "- Free Vodafone TV subscription for 3 months\n",
      "\n",
      "Click here to claim your personalized offers today!\n",
      "\n",
      "Thank you for choosing Vodafone. We're excited to keep serving you!\n",
      "\n",
      "Best regards,\n",
      "Vodafone Customer Care Team\n",
      "\n",
      "\n"
     ]
    }
   ],
   "source": [
    "# print every personalized email of the df_gpt\n",
    "for index, row in df_gpt.iterrows():\n",
    "    print(f\"Email for {row['client_name']}:\\n{row['personalized_email']}\\n\")\n"
   ]
  },
  {
   "cell_type": "markdown",
   "id": "107bd731",
   "metadata": {},
   "source": [
    "As we can see above, the gpt still needs to be further tuned. For starters, it gives more discounts than it should.\n",
    "\n",
    "Link to GPT: https://chatgpt.com/g/g-686cc8f84b4481918fbf212ff659d94b-vodafone-retention-assistant"
   ]
  },
  {
   "cell_type": "markdown",
   "id": "913df674",
   "metadata": {},
   "source": [
    "# Wrap Up - Part II Generate an email using Large Language Models, in the style of our client\n",
    "\n",
    "## How do you ensure the generated content adheres to the brand guidelines of the client?\n",
    "\n",
    "- By sharing Vodafone's Voice Guidelines for Customer Retention Emails PDF to the Knowledge Base of the GPT. \n",
    "\n",
    "- By explicitly mention it in the Instructions section of the GPT.\n",
    "\n",
    "- By explicitly mention it while giving the GPT its identity, goal, and purpose.\n",
    "\n",
    "- By providing examples.\n",
    "\n",
    "- By selecting OpenAI's model focused on writing (it is also set as \"Recommended by the creator\").\n",
    "\n",
    "- By providing clear and structured prompts."
   ]
  },
  {
   "cell_type": "markdown",
   "id": "03a688e0",
   "metadata": {},
   "source": [
    "## How could this concept scale across different customer journeys, phases or segments? \n",
    "\n",
    "* Store data in a historical format. This would enable to identify customer's changes over time (at different point in times).\n",
    "\n",
    "* Define a recurrency for model testing/application. This will help identifying changes in the feature importance results. New features might become more relevant than others and viceversa. If features change, data scientist together with marketing and finance can co-create new offers tailored to these features that could be more atractive for customers. \n",
    "\n",
    "* Add customer-offers-response data to the dataset to understand the effectiveness of these strategies in relation to churning behavior. \n"
   ]
  },
  {
   "cell_type": "markdown",
   "id": "af2b6445",
   "metadata": {},
   "source": []
  }
 ],
 "metadata": {
  "kernelspec": {
   "display_name": ".venv",
   "language": "python",
   "name": "python3"
  },
  "language_info": {
   "codemirror_mode": {
    "name": "ipython",
    "version": 3
   },
   "file_extension": ".py",
   "mimetype": "text/x-python",
   "name": "python",
   "nbconvert_exporter": "python",
   "pygments_lexer": "ipython3",
   "version": "3.13.5"
  }
 },
 "nbformat": 4,
 "nbformat_minor": 5
}
